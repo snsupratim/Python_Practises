{
 "cells": [
  {
   "cell_type": "markdown",
   "metadata": {},
   "source": [
    "PYTHON CODING QUESTION (BEGINNER TO ADVANCE)"
   ]
  },
  {
   "cell_type": "markdown",
   "metadata": {},
   "source": [
    "1. Converting an Integer into Decimals\n"
   ]
  },
  {
   "cell_type": "code",
   "execution_count": 1,
   "metadata": {},
   "outputs": [
    {
     "name": "stdout",
     "output_type": "stream",
     "text": [
      "10\n",
      "<class 'decimal.Decimal'>\n"
     ]
    }
   ],
   "source": [
    "import decimal\n",
    "integer = 10\n",
    "print(decimal.Decimal(integer))\n",
    "print(type(decimal.Decimal(integer)))\n",
    "\n"
   ]
  },
  {
   "cell_type": "markdown",
   "metadata": {},
   "source": [
    "2. Converting an String of Integers into Decimals"
   ]
  },
  {
   "cell_type": "code",
   "execution_count": 2,
   "metadata": {},
   "outputs": [
    {
     "name": "stdout",
     "output_type": "stream",
     "text": [
      "12345\n",
      "<class 'decimal.Decimal'>\n"
     ]
    }
   ],
   "source": [
    "import decimal\n",
    "string = '12345'\n",
    "print(decimal.Decimal(string))\n",
    "print(type(decimal.Decimal(string)))\n",
    "\n"
   ]
  },
  {
   "cell_type": "markdown",
   "metadata": {},
   "source": [
    "3. Reversing a String using an Extended Slicing Technique"
   ]
  },
  {
   "cell_type": "code",
   "execution_count": 3,
   "metadata": {},
   "outputs": [
    {
     "name": "stdout",
     "output_type": "stream",
     "text": [
      "gnimmargorP nohtyP\n"
     ]
    }
   ],
   "source": [
    "string = \"Python Programming\"\n",
    "print(string[::-1])\n",
    "\n",
    "\n"
   ]
  },
  {
   "cell_type": "markdown",
   "metadata": {},
   "source": [
    "4. Counting Vowels in a Given Word"
   ]
  },
  {
   "cell_type": "code",
   "execution_count": 4,
   "metadata": {},
   "outputs": [
    {
     "name": "stdout",
     "output_type": "stream",
     "text": [
      "3\n"
     ]
    }
   ],
   "source": [
    "vowel = ['a', 'e', 'i', 'o', 'u']\n",
    "word = \"programming\"\n",
    "count = 0\n",
    "for character in word:\n",
    "    if character in vowel:\n",
    "        count += 1\n",
    "print(count)\n"
   ]
  },
  {
   "cell_type": "markdown",
   "metadata": {},
   "source": [
    "5. Counting Consonants in a Given Word"
   ]
  },
  {
   "cell_type": "code",
   "execution_count": 5,
   "metadata": {},
   "outputs": [
    {
     "name": "stdout",
     "output_type": "stream",
     "text": [
      "8\n"
     ]
    }
   ],
   "source": [
    "vowel = ['a', 'e', 'i', 'o', 'u']\n",
    "word = \"programming\"\n",
    "count = 0\n",
    "for character in word:\n",
    "    if character not in vowel:\n",
    "        count += 1\n",
    "print(count)\n",
    "\n"
   ]
  },
  {
   "cell_type": "markdown",
   "metadata": {},
   "source": [
    "6. Counting the Number of Occurances of a Character in a String"
   ]
  },
  {
   "cell_type": "code",
   "execution_count": 6,
   "metadata": {},
   "outputs": [
    {
     "name": "stdout",
     "output_type": "stream",
     "text": [
      "1\n"
     ]
    }
   ],
   "source": [
    "word = \"python\"\n",
    "character = \"p\"\n",
    "count = 0\n",
    "for letter in word:\n",
    "    if letter == character:\n",
    "        count += 1\n",
    "print(count)\n",
    "\n"
   ]
  },
  {
   "cell_type": "markdown",
   "metadata": {},
   "source": [
    "7. Writing Fibonacci Series"
   ]
  },
  {
   "cell_type": "code",
   "execution_count": 7,
   "metadata": {},
   "outputs": [
    {
     "name": "stdout",
     "output_type": "stream",
     "text": [
      "0, 1, 1, 2, 3, 5, 8\n"
     ]
    }
   ],
   "source": [
    "fib = [0,1]\n",
    "# Range starts from 0 by default\n",
    "for i in range(5):\n",
    "    fib.append(fib[-1] + fib[-2])\n",
    "\n",
    "# Converting the list of integers to string\n",
    "print(', '.join(str(e) for e in fib))\n",
    "\n",
    "\n"
   ]
  },
  {
   "cell_type": "markdown",
   "metadata": {},
   "source": [
    "8. Finding the Maximum Number in a List"
   ]
  },
  {
   "cell_type": "code",
   "execution_count": 8,
   "metadata": {},
   "outputs": [
    {
     "name": "stdout",
     "output_type": "stream",
     "text": [
      "125\n"
     ]
    }
   ],
   "source": [
    "numberList = [15, 85, 35, 89, 125]\n",
    "\n",
    "maxNum = numberList[0]\n",
    "for num in numberList:\n",
    "    if maxNum < num:\n",
    "        maxNum = num\n",
    "print(maxNum)\n",
    "\n",
    "\n"
   ]
  },
  {
   "cell_type": "markdown",
   "metadata": {},
   "source": [
    "9. Finding the Minimum Number in a Lis"
   ]
  },
  {
   "cell_type": "code",
   "execution_count": 9,
   "metadata": {},
   "outputs": [
    {
     "name": "stdout",
     "output_type": "stream",
     "text": [
      "2\n"
     ]
    }
   ],
   "source": [
    "numberList = [15, 85, 35, 89, 125, 2]\n",
    "\n",
    "minNum = numberList[0]\n",
    "for num in numberList:\n",
    "    if minNum > num:\n",
    "        minNum = num\n",
    "print(minNum)\n",
    "\n",
    "\n"
   ]
  },
  {
   "cell_type": "markdown",
   "metadata": {},
   "source": [
    "10. Finding the Middle Element in a List"
   ]
  },
  {
   "cell_type": "code",
   "execution_count": 10,
   "metadata": {},
   "outputs": [
    {
     "name": "stdout",
     "output_type": "stream",
     "text": [
      "3\n"
     ]
    }
   ],
   "source": [
    "\n",
    "numList = [1, 2, 3, 4, 5]\n",
    "midElement = int((len(numList)/2))\n",
    "\n",
    "print(numList[midElement])\n",
    "\n"
   ]
  },
  {
   "cell_type": "markdown",
   "metadata": {},
   "source": [
    "11. Converting a List into a String"
   ]
  },
  {
   "cell_type": "code",
   "execution_count": 11,
   "metadata": {},
   "outputs": [
    {
     "name": "stdout",
     "output_type": "stream",
     "text": [
      "PYTHON\n",
      "<class 'str'>\n"
     ]
    }
   ],
   "source": [
    "lst = [\"P\", \"Y\", \"T\", \"H\", \"O\", \"N\"]\n",
    "string = ''.join(lst)\n",
    "\n",
    "print(string)\n",
    "print(type(string))\n",
    "\n"
   ]
  },
  {
   "cell_type": "markdown",
   "metadata": {},
   "source": [
    "12. Adding Two List Elements Together"
   ]
  },
  {
   "cell_type": "code",
   "execution_count": 12,
   "metadata": {},
   "outputs": [
    {
     "name": "stdout",
     "output_type": "stream",
     "text": [
      "[5, 7, 9]\n"
     ]
    }
   ],
   "source": [
    "lst1 = [1, 2, 3]\n",
    "lst2 = [4, 5, 6]\n",
    "\n",
    "res_lst = []\n",
    "for i in range(0, len(lst1)):\n",
    "    res_lst.append(lst1[i] + lst2[i])\n",
    "print(res_lst)\n",
    "\n",
    "\n"
   ]
  },
  {
   "cell_type": "markdown",
   "metadata": {},
   "source": [
    "13. Comparing Two Strings for Anagrams"
   ]
  },
  {
   "cell_type": "code",
   "execution_count": 13,
   "metadata": {},
   "outputs": [
    {
     "name": "stdout",
     "output_type": "stream",
     "text": [
      "True\n"
     ]
    }
   ],
   "source": [
    "str1 = \"Listen\"\n",
    "str2 = \"Silent\"\n",
    "\n",
    "str1 = list(str1.upper())\n",
    "str2 = list(str2.upper())\n",
    "str1.sort(), str2.sort()\n",
    "\n",
    "if(str1 == str2):\n",
    "    print(\"True\")\n",
    "else:\n",
    "    print(\"False\")\n",
    "\n"
   ]
  },
  {
   "cell_type": "markdown",
   "metadata": {},
   "source": [
    "14. Checking for Palindrome Using Extended Slicing Technique"
   ]
  },
  {
   "cell_type": "code",
   "execution_count": 14,
   "metadata": {},
   "outputs": [
    {
     "name": "stdout",
     "output_type": "stream",
     "text": [
      "True\n"
     ]
    }
   ],
   "source": [
    "str1 = \"Kayak\".lower()\n",
    "str2 = \"kayak\".lower()\n",
    "\n",
    "if(str1 == str2[::-1]):\n",
    "    print(\"True\")\n",
    "else:\n",
    "    print(\"False\")\n",
    "\n",
    "\n"
   ]
  },
  {
   "cell_type": "markdown",
   "metadata": {},
   "source": [
    "15. Counting the White Spaces in a String"
   ]
  },
  {
   "cell_type": "code",
   "execution_count": 15,
   "metadata": {},
   "outputs": [
    {
     "name": "stdout",
     "output_type": "stream",
     "text": [
      "5\n"
     ]
    }
   ],
   "source": [
    "string = \"P r ogramm in g \"\n",
    "print(string.count(' '))\n",
    "\n"
   ]
  },
  {
   "cell_type": "markdown",
   "metadata": {},
   "source": [
    "16. Counting Digits, Letters, and Spaces in a String"
   ]
  },
  {
   "cell_type": "code",
   "execution_count": 16,
   "metadata": {},
   "outputs": [
    {
     "name": "stdout",
     "output_type": "stream",
     "text": [
      "1\n",
      "8\n",
      "2\n"
     ]
    }
   ],
   "source": [
    "# Importing Regular Expressions Library\n",
    "import re\n",
    "\n",
    "name = 'Python is 1'\n",
    "\n",
    "digitCount = re.sub(\"[^0-9]\", \"\", name)\n",
    "letterCount = re.sub(\"[^a-zA-Z]\", \"\", name)\n",
    "spaceCount = re.findall(\"[ \\n]\", name)\n",
    "\n",
    "print(len(digitCount))\n",
    "print(len(letterCount))\n",
    "print(len(spaceCount))\n",
    "\n"
   ]
  },
  {
   "cell_type": "markdown",
   "metadata": {},
   "source": [
    "17. Counting Special Characters in a String"
   ]
  },
  {
   "cell_type": "code",
   "execution_count": 17,
   "metadata": {},
   "outputs": [
    {
     "name": "stdout",
     "output_type": "stream",
     "text": [
      "10\n"
     ]
    }
   ],
   "source": [
    "# Importing Regular Expressions Library\n",
    "import re\n",
    "spChar = \"!@#$%^&*()\"\n",
    "\n",
    "count = re.sub('[\\w]+', '', spChar)\n",
    "print(len(count))\n",
    "\n"
   ]
  },
  {
   "cell_type": "markdown",
   "metadata": {},
   "source": [
    "18. Removing All Whitespace in a String"
   ]
  },
  {
   "cell_type": "code",
   "execution_count": 18,
   "metadata": {},
   "outputs": [
    {
     "name": "stdout",
     "output_type": "stream",
     "text": [
      "CODE\n"
     ]
    }
   ],
   "source": [
    "import re\n",
    "\n",
    "string = \"C O D E\"\n",
    "spaces = re.compile(r'\\s+')\n",
    "result = re.sub(spaces, '', string)\n",
    "print(result)\n",
    "\n",
    "\n"
   ]
  },
  {
   "cell_type": "markdown",
   "metadata": {},
   "source": [
    "19. Building a Pyramid in Python"
   ]
  },
  {
   "cell_type": "code",
   "execution_count": 19,
   "metadata": {},
   "outputs": [
    {
     "name": "stdout",
     "output_type": "stream",
     "text": [
      "  *  \n",
      " *** \n",
      "*****\n"
     ]
    }
   ],
   "source": [
    "floors = 3\n",
    "h = 2*floors-1\n",
    "for i in range(1, 2*floors, 2):\n",
    "    print('{:^{}}'.format('*'*i, h))\n",
    "\n",
    "\n"
   ]
  },
  {
   "cell_type": "markdown",
   "metadata": {},
   "source": [
    "20. Randomizing the Items of a List in Python"
   ]
  },
  {
   "cell_type": "code",
   "execution_count": 20,
   "metadata": {},
   "outputs": [
    {
     "name": "stdout",
     "output_type": "stream",
     "text": [
      "['Easy', 'Python', 'is']\n"
     ]
    }
   ],
   "source": [
    "\n",
    "from random import shuffle\n",
    "\n",
    "lst = ['Python', 'is', 'Easy']\n",
    "shuffle(lst)\n",
    "print(lst)\n",
    "\n",
    "\n",
    "\n"
   ]
  }
 ],
 "metadata": {
  "kernelspec": {
   "display_name": "Python 3",
   "language": "python",
   "name": "python3"
  },
  "language_info": {
   "codemirror_mode": {
    "name": "ipython",
    "version": 3
   },
   "file_extension": ".py",
   "mimetype": "text/x-python",
   "name": "python",
   "nbconvert_exporter": "python",
   "pygments_lexer": "ipython3",
   "version": "3.11.3"
  }
 },
 "nbformat": 4,
 "nbformat_minor": 2
}
